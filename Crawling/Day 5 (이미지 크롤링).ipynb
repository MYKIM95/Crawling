{
 "cells": [
  {
   "cell_type": "markdown",
   "metadata": {},
   "source": [
    "### 이미지 크롤링"
   ]
  },
  {
   "cell_type": "code",
   "execution_count": 1,
   "metadata": {},
   "outputs": [],
   "source": [
    "from selenium import webdriver as wb\n",
    "from bs4 import BeautifulSoup as bs\n",
    "from selenium.webdriver.common.keys import Keys\n",
    "import requests as req\n",
    "import time"
   ]
  },
  {
   "cell_type": "code",
   "execution_count": 2,
   "metadata": {},
   "outputs": [],
   "source": [
    "# 이미지 크롤링을 위한 라이브러리\n",
    "\n",
    "import os  # 파일시스템을 위한 라이브러리 ex) 파일, 폴더를 생성, 삭제, 존재여부\n",
    "from urllib.request import urlretrieve # 이미지 경로를 파일로 저장"
   ]
  },
  {
   "cell_type": "markdown",
   "metadata": {},
   "source": [
    "### 이미지를 저장할 폴더를 만들기"
   ]
  },
  {
   "cell_type": "code",
   "execution_count": 4,
   "metadata": {},
   "outputs": [
    {
     "data": {
      "text/plain": [
       "False"
      ]
     },
     "execution_count": 4,
     "metadata": {},
     "output_type": "execute_result"
    }
   ],
   "source": [
    "os.path.isdir('./이미지')  # 소괄호 안에 적혀있는 폴더이름이 존재하는지 파악하는 코드"
   ]
  },
  {
   "cell_type": "code",
   "execution_count": 5,
   "metadata": {},
   "outputs": [
    {
     "name": "stdout",
     "output_type": "stream",
     "text": [
      "폴더생성\n"
     ]
    }
   ],
   "source": [
    "if not os.path.isdir('./이미지'):\n",
    "    print(\"폴더생성\")\n",
    "    os.mkdir('./이미지')  # 폴더를 생성할때 쓰는 코드"
   ]
  },
  {
   "cell_type": "code",
   "execution_count": 6,
   "metadata": {},
   "outputs": [],
   "source": [
    "url = 'https://search.naver.com/search.naver?where=image&sm=tab_jum&query=%EC%8B%9C%EB%B0%94%EA%B2%AC'\n",
    "driver = wb.Chrome()\n",
    "driver.get(url)"
   ]
  },
  {
   "cell_type": "code",
   "execution_count": 7,
   "metadata": {},
   "outputs": [],
   "source": [
    "soup = bs(driver.page_source, 'lxml')"
   ]
  },
  {
   "cell_type": "code",
   "execution_count": 9,
   "metadata": {},
   "outputs": [],
   "source": [
    "img_src = soup.select('img._image')"
   ]
  },
  {
   "cell_type": "code",
   "execution_count": 13,
   "metadata": {},
   "outputs": [],
   "source": [
    "src_list = []\n",
    "\n",
    "for i in img_src:\n",
    "    src_list.append(i['src'])"
   ]
  },
  {
   "cell_type": "code",
   "execution_count": 15,
   "metadata": {
    "collapsed": true
   },
   "outputs": [
    {
     "name": "stdout",
     "output_type": "stream",
     "text": [
      "1번째 이미지가 저장중입니다.\n",
      "2번째 이미지가 저장중입니다.\n",
      "3번째 이미지가 저장중입니다.\n",
      "4번째 이미지가 저장중입니다.\n",
      "5번째 이미지가 저장중입니다.\n",
      "6번째 이미지가 저장중입니다.\n",
      "7번째 이미지가 저장중입니다.\n",
      "8번째 이미지가 저장중입니다.\n",
      "9번째 이미지가 저장중입니다.\n",
      "10번째 이미지가 저장중입니다.\n",
      "11번째 이미지가 저장중입니다.\n",
      "12번째 이미지가 저장중입니다.\n",
      "13번째 이미지가 저장중입니다.\n",
      "14번째 이미지가 저장중입니다.\n",
      "15번째 이미지가 저장중입니다.\n",
      "16번째 이미지가 저장중입니다.\n",
      "17번째 이미지가 저장중입니다.\n",
      "18번째 이미지가 저장중입니다.\n",
      "19번째 이미지가 저장중입니다.\n",
      "20번째 이미지가 저장중입니다.\n",
      "21번째 이미지가 저장중입니다.\n",
      "22번째 이미지가 저장중입니다.\n",
      "23번째 이미지가 저장중입니다.\n",
      "24번째 이미지가 저장중입니다.\n",
      "25번째 이미지가 저장중입니다.\n",
      "26번째 이미지가 저장중입니다.\n",
      "27번째 이미지가 저장중입니다.\n",
      "28번째 이미지가 저장중입니다.\n",
      "29번째 이미지가 저장중입니다.\n",
      "30번째 이미지가 저장중입니다.\n",
      "31번째 이미지가 저장중입니다.\n",
      "32번째 이미지가 저장중입니다.\n",
      "33번째 이미지가 저장중입니다.\n",
      "34번째 이미지가 저장중입니다.\n",
      "35번째 이미지가 저장중입니다.\n",
      "36번째 이미지가 저장중입니다.\n",
      "37번째 이미지가 저장중입니다.\n",
      "38번째 이미지가 저장중입니다.\n",
      "39번째 이미지가 저장중입니다.\n",
      "40번째 이미지가 저장중입니다.\n",
      "41번째 이미지가 저장중입니다.\n",
      "42번째 이미지가 저장중입니다.\n",
      "43번째 이미지가 저장중입니다.\n",
      "44번째 이미지가 저장중입니다.\n",
      "45번째 이미지가 저장중입니다.\n",
      "46번째 이미지가 저장중입니다.\n",
      "47번째 이미지가 저장중입니다.\n",
      "48번째 이미지가 저장중입니다.\n",
      "49번째 이미지가 저장중입니다.\n",
      "50번째 이미지가 저장중입니다.\n",
      "51번째 이미지가 저장중입니다.\n",
      "52번째 이미지가 저장중입니다.\n",
      "53번째 이미지가 저장중입니다.\n",
      "54번째 이미지가 저장중입니다.\n",
      "55번째 이미지가 저장중입니다.\n",
      "56번째 이미지가 저장중입니다.\n",
      "57번째 이미지가 저장중입니다.\n",
      "58번째 이미지가 저장중입니다.\n",
      "59번째 이미지가 저장중입니다.\n",
      "60번째 이미지가 저장중입니다.\n",
      "61번째 이미지가 저장중입니다.\n",
      "62번째 이미지가 저장중입니다.\n",
      "63번째 이미지가 저장중입니다.\n",
      "64번째 이미지가 저장중입니다.\n",
      "65번째 이미지가 저장중입니다.\n",
      "66번째 이미지가 저장중입니다.\n",
      "67번째 이미지가 저장중입니다.\n",
      "68번째 이미지가 저장중입니다.\n",
      "69번째 이미지가 저장중입니다.\n",
      "70번째 이미지가 저장중입니다.\n",
      "71번째 이미지가 저장중입니다.\n",
      "72번째 이미지가 저장중입니다.\n",
      "73번째 이미지가 저장중입니다.\n",
      "74번째 이미지가 저장중입니다.\n",
      "75번째 이미지가 저장중입니다.\n",
      "76번째 이미지가 저장중입니다.\n",
      "77번째 이미지가 저장중입니다.\n",
      "78번째 이미지가 저장중입니다.\n",
      "79번째 이미지가 저장중입니다.\n",
      "80번째 이미지가 저장중입니다.\n",
      "81번째 이미지가 저장중입니다.\n",
      "82번째 이미지가 저장중입니다.\n",
      "83번째 이미지가 저장중입니다.\n",
      "84번째 이미지가 저장중입니다.\n",
      "85번째 이미지가 저장중입니다.\n",
      "86번째 이미지가 저장중입니다.\n",
      "87번째 이미지가 저장중입니다.\n",
      "88번째 이미지가 저장중입니다.\n",
      "89번째 이미지가 저장중입니다.\n",
      "90번째 이미지가 저장중입니다.\n",
      "91번째 이미지가 저장중입니다.\n",
      "92번째 이미지가 저장중입니다.\n",
      "93번째 이미지가 저장중입니다.\n",
      "94번째 이미지가 저장중입니다.\n",
      "95번째 이미지가 저장중입니다.\n",
      "96번째 이미지가 저장중입니다.\n",
      "97번째 이미지가 저장중입니다.\n",
      "98번째 이미지가 저장중입니다.\n",
      "99번째 이미지가 저장중입니다.\n",
      "100번째 이미지가 저장중입니다.\n",
      "101번째 이미지가 저장중입니다.\n",
      "102번째 이미지가 저장중입니다.\n",
      "103번째 이미지가 저장중입니다.\n",
      "104번째 이미지가 저장중입니다.\n",
      "105번째 이미지가 저장중입니다.\n",
      "106번째 이미지가 저장중입니다.\n",
      "107번째 이미지가 저장중입니다.\n",
      "108번째 이미지가 저장중입니다.\n",
      "109번째 이미지가 저장중입니다.\n",
      "110번째 이미지가 저장중입니다.\n",
      "111번째 이미지가 저장중입니다.\n",
      "112번째 이미지가 저장중입니다.\n",
      "113번째 이미지가 저장중입니다.\n",
      "114번째 이미지가 저장중입니다.\n",
      "115번째 이미지가 저장중입니다.\n",
      "116번째 이미지가 저장중입니다.\n",
      "117번째 이미지가 저장중입니다.\n",
      "118번째 이미지가 저장중입니다.\n",
      "119번째 이미지가 저장중입니다.\n",
      "120번째 이미지가 저장중입니다.\n",
      "121번째 이미지가 저장중입니다.\n",
      "122번째 이미지가 저장중입니다.\n",
      "123번째 이미지가 저장중입니다.\n",
      "124번째 이미지가 저장중입니다.\n",
      "125번째 이미지가 저장중입니다.\n",
      "126번째 이미지가 저장중입니다.\n",
      "127번째 이미지가 저장중입니다.\n",
      "128번째 이미지가 저장중입니다.\n",
      "129번째 이미지가 저장중입니다.\n",
      "130번째 이미지가 저장중입니다.\n",
      "131번째 이미지가 저장중입니다.\n",
      "132번째 이미지가 저장중입니다.\n",
      "133번째 이미지가 저장중입니다.\n",
      "134번째 이미지가 저장중입니다.\n",
      "135번째 이미지가 저장중입니다.\n",
      "136번째 이미지가 저장중입니다.\n",
      "137번째 이미지가 저장중입니다.\n",
      "138번째 이미지가 저장중입니다.\n",
      "139번째 이미지가 저장중입니다.\n",
      "140번째 이미지가 저장중입니다.\n",
      "141번째 이미지가 저장중입니다.\n",
      "142번째 이미지가 저장중입니다.\n",
      "143번째 이미지가 저장중입니다.\n",
      "144번째 이미지가 저장중입니다.\n"
     ]
    }
   ],
   "source": [
    "cnt = 0\n",
    "\n",
    "for i in range(len(src_list)):\n",
    "    urlretrieve(src_list[i], './이미지/'+str(cnt)+'.jpg')\n",
    "    \n",
    "    cnt += 1\n",
    "    \n",
    "    print(\"{}번째 이미지가 저장중입니다.\".format(cnt))\n",
    "    time.sleep(2)"
   ]
  },
  {
   "cell_type": "code",
   "execution_count": 18,
   "metadata": {},
   "outputs": [],
   "source": [
    "src_list = []\n",
    "\n",
    "for i in range(len(img_src)):\n",
    "    \n",
    "    if i >= 96:\n",
    "        src_list.append(img_src[i]['data-lazy-src'])\n",
    "    else:\n",
    "        src_list.append(img_src[i]['src'])\n",
    "        \n",
    "# 안되면 try except 사용"
   ]
  },
  {
   "cell_type": "code",
   "execution_count": 20,
   "metadata": {
    "collapsed": true
   },
   "outputs": [
    {
     "name": "stdout",
     "output_type": "stream",
     "text": [
      "1번째 이미지가 저장중입니다.\n",
      "2번째 이미지가 저장중입니다.\n",
      "3번째 이미지가 저장중입니다.\n",
      "4번째 이미지가 저장중입니다.\n",
      "5번째 이미지가 저장중입니다.\n",
      "6번째 이미지가 저장중입니다.\n",
      "7번째 이미지가 저장중입니다.\n",
      "8번째 이미지가 저장중입니다.\n",
      "9번째 이미지가 저장중입니다.\n",
      "10번째 이미지가 저장중입니다.\n",
      "11번째 이미지가 저장중입니다.\n",
      "12번째 이미지가 저장중입니다.\n",
      "13번째 이미지가 저장중입니다.\n",
      "14번째 이미지가 저장중입니다.\n",
      "15번째 이미지가 저장중입니다.\n",
      "16번째 이미지가 저장중입니다.\n",
      "17번째 이미지가 저장중입니다.\n",
      "18번째 이미지가 저장중입니다.\n",
      "19번째 이미지가 저장중입니다.\n",
      "20번째 이미지가 저장중입니다.\n",
      "21번째 이미지가 저장중입니다.\n",
      "22번째 이미지가 저장중입니다.\n",
      "23번째 이미지가 저장중입니다.\n",
      "24번째 이미지가 저장중입니다.\n",
      "25번째 이미지가 저장중입니다.\n",
      "26번째 이미지가 저장중입니다.\n",
      "27번째 이미지가 저장중입니다.\n",
      "28번째 이미지가 저장중입니다.\n",
      "29번째 이미지가 저장중입니다.\n",
      "30번째 이미지가 저장중입니다.\n",
      "31번째 이미지가 저장중입니다.\n",
      "32번째 이미지가 저장중입니다.\n",
      "33번째 이미지가 저장중입니다.\n",
      "34번째 이미지가 저장중입니다.\n",
      "35번째 이미지가 저장중입니다.\n",
      "36번째 이미지가 저장중입니다.\n",
      "37번째 이미지가 저장중입니다.\n",
      "38번째 이미지가 저장중입니다.\n",
      "39번째 이미지가 저장중입니다.\n",
      "40번째 이미지가 저장중입니다.\n",
      "41번째 이미지가 저장중입니다.\n",
      "42번째 이미지가 저장중입니다.\n",
      "43번째 이미지가 저장중입니다.\n",
      "44번째 이미지가 저장중입니다.\n",
      "45번째 이미지가 저장중입니다.\n",
      "46번째 이미지가 저장중입니다.\n",
      "47번째 이미지가 저장중입니다.\n",
      "48번째 이미지가 저장중입니다.\n",
      "49번째 이미지가 저장중입니다.\n",
      "50번째 이미지가 저장중입니다.\n",
      "51번째 이미지가 저장중입니다.\n",
      "52번째 이미지가 저장중입니다.\n",
      "53번째 이미지가 저장중입니다.\n",
      "54번째 이미지가 저장중입니다.\n",
      "55번째 이미지가 저장중입니다.\n",
      "56번째 이미지가 저장중입니다.\n",
      "57번째 이미지가 저장중입니다.\n",
      "58번째 이미지가 저장중입니다.\n",
      "59번째 이미지가 저장중입니다.\n",
      "60번째 이미지가 저장중입니다.\n",
      "61번째 이미지가 저장중입니다.\n",
      "62번째 이미지가 저장중입니다.\n",
      "63번째 이미지가 저장중입니다.\n",
      "64번째 이미지가 저장중입니다.\n",
      "65번째 이미지가 저장중입니다.\n",
      "66번째 이미지가 저장중입니다.\n",
      "67번째 이미지가 저장중입니다.\n",
      "68번째 이미지가 저장중입니다.\n",
      "69번째 이미지가 저장중입니다.\n",
      "70번째 이미지가 저장중입니다.\n",
      "71번째 이미지가 저장중입니다.\n",
      "72번째 이미지가 저장중입니다.\n",
      "73번째 이미지가 저장중입니다.\n",
      "74번째 이미지가 저장중입니다.\n",
      "75번째 이미지가 저장중입니다.\n",
      "76번째 이미지가 저장중입니다.\n",
      "77번째 이미지가 저장중입니다.\n",
      "78번째 이미지가 저장중입니다.\n",
      "79번째 이미지가 저장중입니다.\n",
      "80번째 이미지가 저장중입니다.\n",
      "81번째 이미지가 저장중입니다.\n",
      "82번째 이미지가 저장중입니다.\n",
      "83번째 이미지가 저장중입니다.\n",
      "84번째 이미지가 저장중입니다.\n",
      "85번째 이미지가 저장중입니다.\n",
      "86번째 이미지가 저장중입니다.\n",
      "87번째 이미지가 저장중입니다.\n",
      "88번째 이미지가 저장중입니다.\n",
      "89번째 이미지가 저장중입니다.\n",
      "90번째 이미지가 저장중입니다.\n",
      "91번째 이미지가 저장중입니다.\n",
      "92번째 이미지가 저장중입니다.\n",
      "93번째 이미지가 저장중입니다.\n",
      "94번째 이미지가 저장중입니다.\n",
      "95번째 이미지가 저장중입니다.\n",
      "96번째 이미지가 저장중입니다.\n",
      "97번째 이미지가 저장중입니다.\n",
      "98번째 이미지가 저장중입니다.\n",
      "99번째 이미지가 저장중입니다.\n",
      "100번째 이미지가 저장중입니다.\n",
      "101번째 이미지가 저장중입니다.\n",
      "102번째 이미지가 저장중입니다.\n",
      "103번째 이미지가 저장중입니다.\n",
      "104번째 이미지가 저장중입니다.\n",
      "105번째 이미지가 저장중입니다.\n",
      "106번째 이미지가 저장중입니다.\n",
      "107번째 이미지가 저장중입니다.\n",
      "108번째 이미지가 저장중입니다.\n",
      "109번째 이미지가 저장중입니다.\n",
      "110번째 이미지가 저장중입니다.\n",
      "111번째 이미지가 저장중입니다.\n",
      "112번째 이미지가 저장중입니다.\n",
      "113번째 이미지가 저장중입니다.\n",
      "114번째 이미지가 저장중입니다.\n",
      "115번째 이미지가 저장중입니다.\n",
      "116번째 이미지가 저장중입니다.\n",
      "117번째 이미지가 저장중입니다.\n",
      "118번째 이미지가 저장중입니다.\n",
      "119번째 이미지가 저장중입니다.\n",
      "120번째 이미지가 저장중입니다.\n",
      "121번째 이미지가 저장중입니다.\n",
      "122번째 이미지가 저장중입니다.\n",
      "123번째 이미지가 저장중입니다.\n",
      "124번째 이미지가 저장중입니다.\n",
      "125번째 이미지가 저장중입니다.\n",
      "126번째 이미지가 저장중입니다.\n",
      "127번째 이미지가 저장중입니다.\n",
      "128번째 이미지가 저장중입니다.\n",
      "129번째 이미지가 저장중입니다.\n",
      "130번째 이미지가 저장중입니다.\n",
      "131번째 이미지가 저장중입니다.\n",
      "132번째 이미지가 저장중입니다.\n",
      "133번째 이미지가 저장중입니다.\n",
      "134번째 이미지가 저장중입니다.\n",
      "135번째 이미지가 저장중입니다.\n",
      "136번째 이미지가 저장중입니다.\n",
      "137번째 이미지가 저장중입니다.\n",
      "138번째 이미지가 저장중입니다.\n",
      "139번째 이미지가 저장중입니다.\n",
      "140번째 이미지가 저장중입니다.\n",
      "141번째 이미지가 저장중입니다.\n",
      "142번째 이미지가 저장중입니다.\n",
      "143번째 이미지가 저장중입니다.\n",
      "144번째 이미지가 저장중입니다.\n"
     ]
    }
   ],
   "source": [
    "cnt = 0\n",
    "\n",
    "for i in range(len(src_list)):\n",
    "    urlretrieve(src_list[i], './이미지/'+str(cnt)+'.jpg')\n",
    "    \n",
    "    cnt += 1\n",
    "    \n",
    "    print(\"{}번째 이미지가 저장중입니다.\".format(cnt))\n",
    "    time.sleep(2)"
   ]
  },
  {
   "cell_type": "code",
   "execution_count": 36,
   "metadata": {},
   "outputs": [],
   "source": [
    "url = 'https://castbox.shopping.naver.com/shoppingboxnew/main.nhn'\n",
    "res = req.get(url)\n",
    "soup = bs(res.text, 'lxml')"
   ]
  },
  {
   "cell_type": "code",
   "execution_count": 39,
   "metadata": {},
   "outputs": [],
   "source": [
    "site = soup.select('.link_mall')"
   ]
  },
  {
   "cell_type": "code",
   "execution_count": 40,
   "metadata": {},
   "outputs": [
    {
     "name": "stdout",
     "output_type": "stream",
     "text": [
      "G마켓\n",
      "옥션\n",
      "11번가\n",
      "위메프\n",
      "이마트몰\n",
      "올리브영\n",
      "티몬\n",
      "홈플러스\n",
      "GS샵\n",
      "롯데i몰\n",
      "신세계몰\n",
      "CJmall\n"
     ]
    }
   ],
   "source": [
    "for i in site:\n",
    "    print(i.text)"
   ]
  },
  {
   "cell_type": "markdown",
   "metadata": {},
   "source": [
    "### 위메프 사진 클릭"
   ]
  },
  {
   "cell_type": "code",
   "execution_count": 60,
   "metadata": {},
   "outputs": [],
   "source": [
    "driver = wb.Chrome()\n",
    "url = 'https://front.wemakeprice.com/best'\n",
    "driver.get(url)"
   ]
  },
  {
   "cell_type": "code",
   "execution_count": 42,
   "metadata": {},
   "outputs": [],
   "source": [
    "search = driver.find_element_by_class_name('flag_wrap')\n",
    "search.click()"
   ]
  },
  {
   "cell_type": "code",
   "execution_count": 48,
   "metadata": {},
   "outputs": [],
   "source": [
    "# 원하는 번째의 사진을 클릭할 수 있는 방법\n",
    "\n",
    "result = driver.find_elements_by_css_selector('.flag_wrap')\n",
    "result[2].click()"
   ]
  },
  {
   "cell_type": "code",
   "execution_count": 49,
   "metadata": {},
   "outputs": [],
   "source": [
    "# 페이지 뒤로가기 하는 법\n",
    "driver.back()"
   ]
  },
  {
   "cell_type": "code",
   "execution_count": 68,
   "metadata": {},
   "outputs": [],
   "source": [
    "title_list = []\n",
    "price_list = []\n",
    "origin_list = []\n",
    "\n",
    "for i in range(6):\n",
    "    result = driver.find_elements_by_css_selector('.flag_wrap')\n",
    "    result[i].click()\n",
    "    time.sleep(1)\n",
    "    \n",
    "    soup = bs(driver.page_source, 'lxml')\n",
    "    \n",
    "    title = soup.select('h3.deal_tit')\n",
    "    title_list.append(title[0].text.strip())\n",
    "    \n",
    "    price = soup.select('em.num')\n",
    "    price_list.append(price[0].text.strip())\n",
    "    \n",
    "    try:\n",
    "        origin = soup.select('dl.origin p')\n",
    "        origin_list.append(origin[0].text.strip())\n",
    "    except:\n",
    "        origin_list.append('정보없음')\n",
    "        \n",
    "    driver.back()\n",
    "    time.sleep(1)"
   ]
  },
  {
   "cell_type": "code",
   "execution_count": 69,
   "metadata": {},
   "outputs": [
    {
     "data": {
      "text/plain": [
       "['정보없음', '정보없음', '정보없음', '정보없음', '정보없음', '정보없음']"
      ]
     },
     "execution_count": 69,
     "metadata": {},
     "output_type": "execute_result"
    }
   ],
   "source": [
    "origin_list"
   ]
  },
  {
   "cell_type": "code",
   "execution_count": 66,
   "metadata": {},
   "outputs": [],
   "source": [
    "for i in range(len(origin_list)):\n",
    "    origin_list[i] = origin_list[i].replace('원산지 : ', \"\")"
   ]
  },
  {
   "cell_type": "code",
   "execution_count": 67,
   "metadata": {},
   "outputs": [
    {
     "data": {
      "text/plain": [
       "['정보없음', '정보없음', '상세설명참조', '상세설명참조', '상세설명참조', '상세설명참조']"
      ]
     },
     "execution_count": 67,
     "metadata": {},
     "output_type": "execute_result"
    }
   ],
   "source": [
    "origin_list"
   ]
  },
  {
   "cell_type": "markdown",
   "metadata": {},
   "source": [
    "### Datalab 정보 가져오기"
   ]
  },
  {
   "cell_type": "code",
   "execution_count": 13,
   "metadata": {},
   "outputs": [],
   "source": [
    "driver = wb.Chrome()\n",
    "url = 'https://datalab.naver.com/keyword/realtimeList.naver?datetime=2021-01-07T21%3A58%3A00&where=main'\n",
    "driver.get(url)"
   ]
  },
  {
   "cell_type": "code",
   "execution_count": 14,
   "metadata": {},
   "outputs": [],
   "source": [
    "soup = bs(driver.page_source, 'lxml')"
   ]
  },
  {
   "cell_type": "code",
   "execution_count": 16,
   "metadata": {},
   "outputs": [
    {
     "name": "stdout",
     "output_type": "stream",
     "text": [
      "박기량\n",
      "황하나 남편\n",
      "맛남의 광장\n",
      "우상\n",
      "김병욱 의원\n",
      "박기량 강아지\n",
      "빌푸 직업\n",
      "오리 눈집게\n",
      "영화 우상\n",
      "자만추 뜻\n",
      "요리는 감이여\n",
      "심야괴담회\n",
      "목요일 예능\n",
      "마이클 샌델\n",
      "송수우\n",
      "목요일 드라마\n",
      "여신금융협회 카드포인트 통합조회 계좌입금\n",
      "기초생활수급자 조건\n",
      "방인성목사\n",
      "김지윤\n"
     ]
    }
   ],
   "source": [
    "title = soup.select('.item_title_wrap > .item_title')\n",
    "for i in title:\n",
    "    print(i.text)"
   ]
  },
  {
   "cell_type": "code",
   "execution_count": 52,
   "metadata": {},
   "outputs": [
    {
     "data": {
      "text/plain": [
       "'2021-01-01'"
      ]
     },
     "execution_count": 52,
     "metadata": {},
     "output_type": "execute_result"
    }
   ],
   "source": [
    "import pandas as pd\n",
    "date = pd.date_range(start = \"2021-01-01\", end = \"2021-01-06\")\n",
    "days = date.strftime('%Y-%m-%d')\n",
    "days[0]"
   ]
  },
  {
   "cell_type": "code",
   "execution_count": 90,
   "metadata": {},
   "outputs": [],
   "source": [
    "title_list = []\n",
    "rank_list = []\n",
    "date_list = []\n",
    "\n",
    "for i in days:\n",
    "    n_url = \"https://datalab.naver.com/keyword/realtimeList.naver?datetime=\"+ i +\"T23%3A02%3A00&where=main\"\n",
    "    h = {\"User-Agent\": \"Mozilla/5.0 (Windows NT 10.0; Win64; x64) AppleWebKit/537.36 (KHTML, like Gecko) Chrome/83.0.4103.116 Safari/537.36\"}\n",
    "    res = req.get(n_url, headers = h)\n",
    "    soup = bs(res.text, 'lxml')\n",
    "\n",
    "    title = soup.select('.item_title_wrap > .item_title')\n",
    "    \n",
    "    for j in range(len(title)):\n",
    "        title_list.append(title[j].text.strip())\n",
    "        rank_list.append(j+1)\n",
    "        date_list.append(i)"
   ]
  },
  {
   "cell_type": "code",
   "execution_count": 91,
   "metadata": {},
   "outputs": [
    {
     "data": {
      "text/plain": [
       "['2021-01-01',\n",
       " '2021-01-01',\n",
       " '2021-01-01',\n",
       " '2021-01-01',\n",
       " '2021-01-01',\n",
       " '2021-01-01',\n",
       " '2021-01-01',\n",
       " '2021-01-01',\n",
       " '2021-01-01',\n",
       " '2021-01-01',\n",
       " '2021-01-01',\n",
       " '2021-01-01',\n",
       " '2021-01-01',\n",
       " '2021-01-01',\n",
       " '2021-01-01',\n",
       " '2021-01-01',\n",
       " '2021-01-01',\n",
       " '2021-01-01',\n",
       " '2021-01-01',\n",
       " '2021-01-01',\n",
       " '2021-01-02',\n",
       " '2021-01-02',\n",
       " '2021-01-02',\n",
       " '2021-01-02',\n",
       " '2021-01-02',\n",
       " '2021-01-02',\n",
       " '2021-01-02',\n",
       " '2021-01-02',\n",
       " '2021-01-02',\n",
       " '2021-01-02',\n",
       " '2021-01-02',\n",
       " '2021-01-02',\n",
       " '2021-01-02',\n",
       " '2021-01-02',\n",
       " '2021-01-02',\n",
       " '2021-01-02',\n",
       " '2021-01-02',\n",
       " '2021-01-02',\n",
       " '2021-01-02',\n",
       " '2021-01-02',\n",
       " '2021-01-03',\n",
       " '2021-01-03',\n",
       " '2021-01-03',\n",
       " '2021-01-03',\n",
       " '2021-01-03',\n",
       " '2021-01-03',\n",
       " '2021-01-03',\n",
       " '2021-01-03',\n",
       " '2021-01-03',\n",
       " '2021-01-03',\n",
       " '2021-01-03',\n",
       " '2021-01-03',\n",
       " '2021-01-03',\n",
       " '2021-01-03',\n",
       " '2021-01-03',\n",
       " '2021-01-03',\n",
       " '2021-01-03',\n",
       " '2021-01-03',\n",
       " '2021-01-03',\n",
       " '2021-01-03',\n",
       " '2021-01-04',\n",
       " '2021-01-04',\n",
       " '2021-01-04',\n",
       " '2021-01-04',\n",
       " '2021-01-04',\n",
       " '2021-01-04',\n",
       " '2021-01-04',\n",
       " '2021-01-04',\n",
       " '2021-01-04',\n",
       " '2021-01-04',\n",
       " '2021-01-04',\n",
       " '2021-01-04',\n",
       " '2021-01-04',\n",
       " '2021-01-04',\n",
       " '2021-01-04',\n",
       " '2021-01-04',\n",
       " '2021-01-04',\n",
       " '2021-01-04',\n",
       " '2021-01-04',\n",
       " '2021-01-04',\n",
       " '2021-01-05',\n",
       " '2021-01-05',\n",
       " '2021-01-05',\n",
       " '2021-01-05',\n",
       " '2021-01-05',\n",
       " '2021-01-05',\n",
       " '2021-01-05',\n",
       " '2021-01-05',\n",
       " '2021-01-05',\n",
       " '2021-01-05',\n",
       " '2021-01-05',\n",
       " '2021-01-05',\n",
       " '2021-01-05',\n",
       " '2021-01-05',\n",
       " '2021-01-05',\n",
       " '2021-01-05',\n",
       " '2021-01-05',\n",
       " '2021-01-05',\n",
       " '2021-01-05',\n",
       " '2021-01-05',\n",
       " '2021-01-06',\n",
       " '2021-01-06',\n",
       " '2021-01-06',\n",
       " '2021-01-06',\n",
       " '2021-01-06',\n",
       " '2021-01-06',\n",
       " '2021-01-06',\n",
       " '2021-01-06',\n",
       " '2021-01-06',\n",
       " '2021-01-06',\n",
       " '2021-01-06',\n",
       " '2021-01-06',\n",
       " '2021-01-06',\n",
       " '2021-01-06',\n",
       " '2021-01-06',\n",
       " '2021-01-06',\n",
       " '2021-01-06',\n",
       " '2021-01-06',\n",
       " '2021-01-06',\n",
       " '2021-01-06']"
      ]
     },
     "execution_count": 91,
     "metadata": {},
     "output_type": "execute_result"
    }
   ],
   "source": [
    "date_list"
   ]
  },
  {
   "cell_type": "code",
   "execution_count": 92,
   "metadata": {},
   "outputs": [],
   "source": [
    "dic = {'순위' : rank_list, '검색어' : title_list, '날짜' : date_list}\n",
    "df = pd.DataFrame(dic)\n",
    "df.set_index('순위', inplace = True)"
   ]
  },
  {
   "cell_type": "code",
   "execution_count": 93,
   "metadata": {},
   "outputs": [
    {
     "data": {
      "text/html": [
       "<div>\n",
       "<style scoped>\n",
       "    .dataframe tbody tr th:only-of-type {\n",
       "        vertical-align: middle;\n",
       "    }\n",
       "\n",
       "    .dataframe tbody tr th {\n",
       "        vertical-align: top;\n",
       "    }\n",
       "\n",
       "    .dataframe thead th {\n",
       "        text-align: right;\n",
       "    }\n",
       "</style>\n",
       "<table border=\"1\" class=\"dataframe\">\n",
       "  <thead>\n",
       "    <tr style=\"text-align: right;\">\n",
       "      <th></th>\n",
       "      <th>검색어</th>\n",
       "      <th>날짜</th>\n",
       "    </tr>\n",
       "    <tr>\n",
       "      <th>순위</th>\n",
       "      <th></th>\n",
       "      <th></th>\n",
       "    </tr>\n",
       "  </thead>\n",
       "  <tbody>\n",
       "    <tr>\n",
       "      <th>1</th>\n",
       "      <td>스친송</td>\n",
       "      <td>2021-01-01</td>\n",
       "    </tr>\n",
       "    <tr>\n",
       "      <th>2</th>\n",
       "      <td>현빈 손예진</td>\n",
       "      <td>2021-01-01</td>\n",
       "    </tr>\n",
       "    <tr>\n",
       "      <th>3</th>\n",
       "      <td>날아라 개천용 정우성</td>\n",
       "      <td>2021-01-01</td>\n",
       "    </tr>\n",
       "    <tr>\n",
       "      <th>4</th>\n",
       "      <td>손예진</td>\n",
       "      <td>2021-01-01</td>\n",
       "    </tr>\n",
       "    <tr>\n",
       "      <th>5</th>\n",
       "      <td>맨인블랙 인터내셔널</td>\n",
       "      <td>2021-01-01</td>\n",
       "    </tr>\n",
       "    <tr>\n",
       "      <th>...</th>\n",
       "      <td>...</td>\n",
       "      <td>...</td>\n",
       "    </tr>\n",
       "    <tr>\n",
       "      <th>16</th>\n",
       "      <td>감스트</td>\n",
       "      <td>2021-01-06</td>\n",
       "    </tr>\n",
       "    <tr>\n",
       "      <th>17</th>\n",
       "      <td>엑시트</td>\n",
       "      <td>2021-01-06</td>\n",
       "    </tr>\n",
       "    <tr>\n",
       "      <th>18</th>\n",
       "      <td>김새롬</td>\n",
       "      <td>2021-01-06</td>\n",
       "    </tr>\n",
       "    <tr>\n",
       "      <th>19</th>\n",
       "      <td>제설작업</td>\n",
       "      <td>2021-01-06</td>\n",
       "    </tr>\n",
       "    <tr>\n",
       "      <th>20</th>\n",
       "      <td>주우재</td>\n",
       "      <td>2021-01-06</td>\n",
       "    </tr>\n",
       "  </tbody>\n",
       "</table>\n",
       "<p>120 rows × 2 columns</p>\n",
       "</div>"
      ],
      "text/plain": [
       "            검색어          날짜\n",
       "순위                         \n",
       "1           스친송  2021-01-01\n",
       "2        현빈 손예진  2021-01-01\n",
       "3   날아라 개천용 정우성  2021-01-01\n",
       "4           손예진  2021-01-01\n",
       "5    맨인블랙 인터내셔널  2021-01-01\n",
       "..          ...         ...\n",
       "16          감스트  2021-01-06\n",
       "17          엑시트  2021-01-06\n",
       "18          김새롬  2021-01-06\n",
       "19         제설작업  2021-01-06\n",
       "20          주우재  2021-01-06\n",
       "\n",
       "[120 rows x 2 columns]"
      ]
     },
     "execution_count": 93,
     "metadata": {},
     "output_type": "execute_result"
    }
   ],
   "source": [
    "df"
   ]
  },
  {
   "cell_type": "code",
   "execution_count": null,
   "metadata": {},
   "outputs": [],
   "source": []
  }
 ],
 "metadata": {
  "kernelspec": {
   "display_name": "Python 3",
   "language": "python",
   "name": "python3"
  },
  "language_info": {
   "codemirror_mode": {
    "name": "ipython",
    "version": 3
   },
   "file_extension": ".py",
   "mimetype": "text/x-python",
   "name": "python",
   "nbconvert_exporter": "python",
   "pygments_lexer": "ipython3",
   "version": "3.8.5"
  }
 },
 "nbformat": 4,
 "nbformat_minor": 4
}
